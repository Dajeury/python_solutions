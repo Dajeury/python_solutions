{
 "cells": [
  {
   "cell_type": "markdown",
   "metadata": {},
   "source": [
    "# NBA Stats since 2003"
   ]
  },
  {
   "cell_type": "code",
   "execution_count": 2,
   "metadata": {},
   "outputs": [],
   "source": [
    "import pandas as pd\n",
    "from matplotlib import pyplot as plt\n",
    "import numpy as np"
   ]
  },
  {
   "cell_type": "code",
   "execution_count": 3,
   "metadata": {},
   "outputs": [
    {
     "name": "stderr",
     "output_type": "stream",
     "text": [
      "C:\\Users\\dajeu\\AppData\\Local\\Temp\\ipykernel_20380\\740451102.py:4: DtypeWarning: Columns (6) have mixed types. Specify dtype option on import or set low_memory=False.\n",
      "  df_GamesDetails = pd.read_csv('games_details.csv')\n"
     ]
    }
   ],
   "source": [
    "df_Games = pd.read_csv('games.csv')\n",
    "df_Games.GAME_DATE_EST = pd.to_datetime(df_Games.GAME_DATE_EST)\n",
    "\n",
    "df_GamesDetails = pd.read_csv('games_details.csv')\n",
    "\n",
    "df_rakings = pd.read_csv('ranking.csv')\n",
    "df_rakings.STANDINGSDATE = pd.to_datetime(df_rakings.STANDINGSDATE)"
   ]
  },
  {
   "cell_type": "markdown",
   "metadata": {},
   "source": [
    "### Let's find the top 3 scores by categories and its corresponding player"
   ]
  },
  {
   "cell_type": "code",
   "execution_count": 4,
   "metadata": {},
   "outputs": [],
   "source": [
    "from pandas import DataFrame\n",
    "\n",
    "\n",
    "def GetTop5(Category, DataFrame, Columns):\n",
    "    \"\"\"\n",
    "    Param:  Category -> str\n",
    "            DataFrame -> Pandas DataFrame\n",
    "            Columns -> str or list str\n",
    "    Return: Pandas.DataFrame object\n",
    "    \"\"\"\n",
    "#     # Group Max Points by ['PLAYER_NAME','TEAM_ABBREVIATION', 'TEAM_CITY']\n",
    "#     df_MaxByCategory = DataFrame.groupby(Columns, axis=0)[Category].max()\n",
    "#     df_MaxByCategory = df_MaxByCategory.to_frame()\n",
    "\n",
    "#     # Top scores in a single game (TOP 3)\n",
    "#     TopValues = df_MaxByCategory.sort_values(by=[Category],ascending=False)[Category].unique()\n",
    "#     TopValues = TopValues[:3]\n",
    "\n",
    "#     # Sort Descending and replace NaN with 0\n",
    "#     df_MaxByCategory = df_MaxByCategory.sort_values(by=[Category],ascending=False).fillna(0)\n",
    "\n",
    "#     # Filter the df df_MaxByCategory to get Players and corresponding team\n",
    "#     df_Top5Players = df_MaxByCategory[df_MaxByCategory[Category] >= TopValues.min()]4\n",
    "\n",
    "\n",
    "    if type(Columns) == type([]):\n",
    "        Columns = Columns + [Category]\n",
    "    else:\n",
    "        Columns = [Columns, Category]\n",
    "\n",
    "    TopValues = DataFrame.sort_values(by=[Category],ascending=False)[Category].unique()[:3]\n",
    "    TopValues = TopValues[:3]\n",
    "\n",
    "    return DataFrame[Columns][DataFrame[Category] >= TopValues.min()].sort_values(by=[Category],ascending=False)\n",
    "\n",
    "    "
   ]
  },
  {
   "cell_type": "code",
   "execution_count": 5,
   "metadata": {},
   "outputs": [
    {
     "data": {
      "text/html": [
       "<div>\n",
       "<style scoped>\n",
       "    .dataframe tbody tr th:only-of-type {\n",
       "        vertical-align: middle;\n",
       "    }\n",
       "\n",
       "    .dataframe tbody tr th {\n",
       "        vertical-align: top;\n",
       "    }\n",
       "\n",
       "    .dataframe thead th {\n",
       "        text-align: right;\n",
       "    }\n",
       "</style>\n",
       "<table border=\"1\" class=\"dataframe\">\n",
       "  <thead>\n",
       "    <tr style=\"text-align: right;\">\n",
       "      <th></th>\n",
       "      <th>PLAYER_NAME</th>\n",
       "      <th>TEAM_ABBREVIATION</th>\n",
       "      <th>TEAM_CITY</th>\n",
       "      <th>PTS</th>\n",
       "      <th>GAME_DATE_EST</th>\n",
       "      <th>GAME_STATUS_TEXT</th>\n",
       "      <th>SEASON</th>\n",
       "    </tr>\n",
       "  </thead>\n",
       "  <tbody>\n",
       "    <tr>\n",
       "      <th>0</th>\n",
       "      <td>Kobe Bryant</td>\n",
       "      <td>LAL</td>\n",
       "      <td>Los Angeles</td>\n",
       "      <td>81.0</td>\n",
       "      <td>2006-01-22</td>\n",
       "      <td>Final</td>\n",
       "      <td>2005</td>\n",
       "    </tr>\n",
       "    <tr>\n",
       "      <th>1</th>\n",
       "      <td>Devin Booker</td>\n",
       "      <td>PHX</td>\n",
       "      <td>Phoenix</td>\n",
       "      <td>70.0</td>\n",
       "      <td>2017-03-24</td>\n",
       "      <td>Final</td>\n",
       "      <td>2016</td>\n",
       "    </tr>\n",
       "    <tr>\n",
       "      <th>2</th>\n",
       "      <td>Kobe Bryant</td>\n",
       "      <td>LAL</td>\n",
       "      <td>Los Angeles</td>\n",
       "      <td>65.0</td>\n",
       "      <td>2007-03-16</td>\n",
       "      <td>Final</td>\n",
       "      <td>2006</td>\n",
       "    </tr>\n",
       "  </tbody>\n",
       "</table>\n",
       "</div>"
      ],
      "text/plain": [
       "    PLAYER_NAME TEAM_ABBREVIATION    TEAM_CITY   PTS GAME_DATE_EST  \\\n",
       "0   Kobe Bryant               LAL  Los Angeles  81.0    2006-01-22   \n",
       "1  Devin Booker               PHX      Phoenix  70.0    2017-03-24   \n",
       "2   Kobe Bryant               LAL  Los Angeles  65.0    2007-03-16   \n",
       "\n",
       "  GAME_STATUS_TEXT  SEASON  \n",
       "0            Final    2005  \n",
       "1            Final    2016  \n",
       "2            Final    2006  "
      ]
     },
     "execution_count": 5,
     "metadata": {},
     "output_type": "execute_result"
    }
   ],
   "source": [
    "# Get top players on Points\n",
    "Top5_MostPointsPerGames = GetTop5('PTS', df_GamesDetails, ['PLAYER_NAME','TEAM_ABBREVIATION', 'TEAM_CITY','GAME_ID'])\n",
    "\n",
    "# Merge with games to get more data regarding the game itself\n",
    "TopPoints_withDates = Top5_MostPointsPerGames.merge( df_Games, on='GAME_ID', how='left')\n",
    "\n",
    "TopPoints_withDates[['PLAYER_NAME','TEAM_ABBREVIATION','TEAM_CITY','PTS','GAME_DATE_EST','GAME_STATUS_TEXT','SEASON']]\n"
   ]
  },
  {
   "cell_type": "code",
   "execution_count": 6,
   "metadata": {},
   "outputs": [
    {
     "data": {
      "text/html": [
       "<div>\n",
       "<style scoped>\n",
       "    .dataframe tbody tr th:only-of-type {\n",
       "        vertical-align: middle;\n",
       "    }\n",
       "\n",
       "    .dataframe tbody tr th {\n",
       "        vertical-align: top;\n",
       "    }\n",
       "\n",
       "    .dataframe thead th {\n",
       "        text-align: right;\n",
       "    }\n",
       "</style>\n",
       "<table border=\"1\" class=\"dataframe\">\n",
       "  <thead>\n",
       "    <tr style=\"text-align: right;\">\n",
       "      <th></th>\n",
       "      <th>PLAYER_NAME</th>\n",
       "      <th>TEAM_ABBREVIATION</th>\n",
       "      <th>TEAM_CITY</th>\n",
       "      <th>GAME_DATE_EST</th>\n",
       "      <th>AST</th>\n",
       "      <th>GAME_STATUS_TEXT</th>\n",
       "      <th>SEASON</th>\n",
       "    </tr>\n",
       "  </thead>\n",
       "  <tbody>\n",
       "    <tr>\n",
       "      <th>0</th>\n",
       "      <td>Rajon Rondo</td>\n",
       "      <td>NOP</td>\n",
       "      <td>New Orleans</td>\n",
       "      <td>2017-12-27</td>\n",
       "      <td>25.0</td>\n",
       "      <td>Final</td>\n",
       "      <td>2017</td>\n",
       "    </tr>\n",
       "    <tr>\n",
       "      <th>1</th>\n",
       "      <td>Russell Westbrook</td>\n",
       "      <td>WAS</td>\n",
       "      <td>Washington</td>\n",
       "      <td>2021-05-03</td>\n",
       "      <td>24.0</td>\n",
       "      <td>Final</td>\n",
       "      <td>2020</td>\n",
       "    </tr>\n",
       "    <tr>\n",
       "      <th>2</th>\n",
       "      <td>Ramon Sessions</td>\n",
       "      <td>MIL</td>\n",
       "      <td>Milwaukee</td>\n",
       "      <td>2008-04-14</td>\n",
       "      <td>24.0</td>\n",
       "      <td>Final</td>\n",
       "      <td>2007</td>\n",
       "    </tr>\n",
       "    <tr>\n",
       "      <th>3</th>\n",
       "      <td>Rajon Rondo</td>\n",
       "      <td>BOS</td>\n",
       "      <td>Boston</td>\n",
       "      <td>2010-10-29</td>\n",
       "      <td>24.0</td>\n",
       "      <td>Final</td>\n",
       "      <td>2010</td>\n",
       "    </tr>\n",
       "    <tr>\n",
       "      <th>4</th>\n",
       "      <td>Russell Westbrook</td>\n",
       "      <td>OKC</td>\n",
       "      <td>Oklahoma City</td>\n",
       "      <td>2019-01-10</td>\n",
       "      <td>24.0</td>\n",
       "      <td>Final</td>\n",
       "      <td>2018</td>\n",
       "    </tr>\n",
       "    <tr>\n",
       "      <th>5</th>\n",
       "      <td>Steve Nash</td>\n",
       "      <td>PHX</td>\n",
       "      <td>Phoenix</td>\n",
       "      <td>2007-04-29</td>\n",
       "      <td>23.0</td>\n",
       "      <td>Final</td>\n",
       "      <td>2006</td>\n",
       "    </tr>\n",
       "    <tr>\n",
       "      <th>6</th>\n",
       "      <td>Rajon Rondo</td>\n",
       "      <td>BOS</td>\n",
       "      <td>Boston</td>\n",
       "      <td>2011-01-05</td>\n",
       "      <td>23.0</td>\n",
       "      <td>Final</td>\n",
       "      <td>2010</td>\n",
       "    </tr>\n",
       "  </tbody>\n",
       "</table>\n",
       "</div>"
      ],
      "text/plain": [
       "         PLAYER_NAME TEAM_ABBREVIATION      TEAM_CITY GAME_DATE_EST   AST  \\\n",
       "0        Rajon Rondo               NOP    New Orleans    2017-12-27  25.0   \n",
       "1  Russell Westbrook               WAS     Washington    2021-05-03  24.0   \n",
       "2     Ramon Sessions               MIL      Milwaukee    2008-04-14  24.0   \n",
       "3        Rajon Rondo               BOS         Boston    2010-10-29  24.0   \n",
       "4  Russell Westbrook               OKC  Oklahoma City    2019-01-10  24.0   \n",
       "5         Steve Nash               PHX        Phoenix    2007-04-29  23.0   \n",
       "6        Rajon Rondo               BOS         Boston    2011-01-05  23.0   \n",
       "\n",
       "  GAME_STATUS_TEXT  SEASON  \n",
       "0            Final    2017  \n",
       "1            Final    2020  \n",
       "2            Final    2007  \n",
       "3            Final    2010  \n",
       "4            Final    2018  \n",
       "5            Final    2006  \n",
       "6            Final    2010  "
      ]
     },
     "execution_count": 6,
     "metadata": {},
     "output_type": "execute_result"
    }
   ],
   "source": [
    "# Get top players on Assistance\n",
    "Top5_AssistancePerGames = GetTop5('AST', df_GamesDetails, ['PLAYER_NAME','TEAM_ABBREVIATION', 'TEAM_CITY','GAME_ID'])\n",
    "\n",
    "# Get more data regarding the game\n",
    "TopAssistance_WithDates = Top5_AssistancePerGames.merge( df_Games, on='GAME_ID', how='left')\n",
    "TopAssistance_WithDates[['PLAYER_NAME','TEAM_ABBREVIATION','TEAM_CITY','GAME_DATE_EST','AST','GAME_STATUS_TEXT','SEASON']]"
   ]
  },
  {
   "cell_type": "code",
   "execution_count": 7,
   "metadata": {},
   "outputs": [
    {
     "name": "stdout",
     "output_type": "stream",
     "text": [
      "2003 is the earliest year in this data\n"
     ]
    }
   ],
   "source": [
    "print(f'{df_Games.SEASON.min()} is the earliest year in this data') # Earliest Year in the DF"
   ]
  }
 ],
 "metadata": {
  "kernelspec": {
   "display_name": "Python 3.9.7 64-bit",
   "language": "python",
   "name": "python3"
  },
  "language_info": {
   "codemirror_mode": {
    "name": "ipython",
    "version": 3
   },
   "file_extension": ".py",
   "mimetype": "text/x-python",
   "name": "python",
   "nbconvert_exporter": "python",
   "pygments_lexer": "ipython3",
   "version": "3.11.1"
  },
  "orig_nbformat": 4,
  "vscode": {
   "interpreter": {
    "hash": "c347c8f9a7ef94e4c9e03b4513be7835ed18f45b99a2a817fb579f408b867b16"
   }
  }
 },
 "nbformat": 4,
 "nbformat_minor": 2
}
